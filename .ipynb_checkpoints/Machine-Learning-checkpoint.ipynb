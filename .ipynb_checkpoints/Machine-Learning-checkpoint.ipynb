{
 "cells": [
  {
   "cell_type": "code",
   "execution_count": 1,
   "metadata": {},
   "outputs": [],
   "source": [
    "import warnings\n",
    "warnings.simplefilter('ignore')\n",
    "\n",
    "import pandas as pd\n",
    "import numpy as np\n",
    "import matplotlib.pyplot as plt"
   ]
  },
  {
   "cell_type": "markdown",
   "metadata": {},
   "source": [
    "# Load In And Look At Dataset"
   ]
  },
  {
   "cell_type": "code",
   "execution_count": 2,
   "metadata": {},
   "outputs": [
    {
     "data": {
      "text/html": [
       "<div>\n",
       "<style scoped>\n",
       "    .dataframe tbody tr th:only-of-type {\n",
       "        vertical-align: middle;\n",
       "    }\n",
       "\n",
       "    .dataframe tbody tr th {\n",
       "        vertical-align: top;\n",
       "    }\n",
       "\n",
       "    .dataframe thead th {\n",
       "        text-align: right;\n",
       "    }\n",
       "</style>\n",
       "<table border=\"1\" class=\"dataframe\">\n",
       "  <thead>\n",
       "    <tr style=\"text-align: right;\">\n",
       "      <th></th>\n",
       "      <th>Creativity</th>\n",
       "      <th>note-edit-count</th>\n",
       "      <th>navigate-count</th>\n",
       "      <th>playback-count</th>\n",
       "      <th>help-count</th>\n",
       "      <th>building-count</th>\n",
       "      <th>param-change-count</th>\n",
       "      <th>clipboard-count</th>\n",
       "      <th>total-count</th>\n",
       "      <th>category</th>\n",
       "    </tr>\n",
       "  </thead>\n",
       "  <tbody>\n",
       "    <tr>\n",
       "      <th>0</th>\n",
       "      <td>1.92</td>\n",
       "      <td>26</td>\n",
       "      <td>5</td>\n",
       "      <td>21</td>\n",
       "      <td>2</td>\n",
       "      <td>67</td>\n",
       "      <td>31</td>\n",
       "      <td>7</td>\n",
       "      <td>208</td>\n",
       "      <td>least_creative</td>\n",
       "    </tr>\n",
       "    <tr>\n",
       "      <th>1</th>\n",
       "      <td>2.15</td>\n",
       "      <td>76</td>\n",
       "      <td>14</td>\n",
       "      <td>16</td>\n",
       "      <td>0</td>\n",
       "      <td>78</td>\n",
       "      <td>7</td>\n",
       "      <td>0</td>\n",
       "      <td>216</td>\n",
       "      <td>least_creative</td>\n",
       "    </tr>\n",
       "    <tr>\n",
       "      <th>2</th>\n",
       "      <td>1.62</td>\n",
       "      <td>57</td>\n",
       "      <td>0</td>\n",
       "      <td>6</td>\n",
       "      <td>2</td>\n",
       "      <td>17</td>\n",
       "      <td>0</td>\n",
       "      <td>2</td>\n",
       "      <td>98</td>\n",
       "      <td>least_creative</td>\n",
       "    </tr>\n",
       "    <tr>\n",
       "      <th>3</th>\n",
       "      <td>1.92</td>\n",
       "      <td>39</td>\n",
       "      <td>14</td>\n",
       "      <td>14</td>\n",
       "      <td>2</td>\n",
       "      <td>45</td>\n",
       "      <td>0</td>\n",
       "      <td>0</td>\n",
       "      <td>128</td>\n",
       "      <td>least_creative</td>\n",
       "    </tr>\n",
       "    <tr>\n",
       "      <th>4</th>\n",
       "      <td>2.92</td>\n",
       "      <td>38</td>\n",
       "      <td>1</td>\n",
       "      <td>8</td>\n",
       "      <td>2</td>\n",
       "      <td>53</td>\n",
       "      <td>4</td>\n",
       "      <td>10</td>\n",
       "      <td>164</td>\n",
       "      <td>some_creative</td>\n",
       "    </tr>\n",
       "    <tr>\n",
       "      <th>5</th>\n",
       "      <td>2.92</td>\n",
       "      <td>54</td>\n",
       "      <td>11</td>\n",
       "      <td>25</td>\n",
       "      <td>2</td>\n",
       "      <td>47</td>\n",
       "      <td>17</td>\n",
       "      <td>3</td>\n",
       "      <td>180</td>\n",
       "      <td>some_creative</td>\n",
       "    </tr>\n",
       "    <tr>\n",
       "      <th>6</th>\n",
       "      <td>2.92</td>\n",
       "      <td>49</td>\n",
       "      <td>8</td>\n",
       "      <td>20</td>\n",
       "      <td>2</td>\n",
       "      <td>109</td>\n",
       "      <td>1</td>\n",
       "      <td>23</td>\n",
       "      <td>409</td>\n",
       "      <td>some_creative</td>\n",
       "    </tr>\n",
       "    <tr>\n",
       "      <th>7</th>\n",
       "      <td>2.31</td>\n",
       "      <td>53</td>\n",
       "      <td>9</td>\n",
       "      <td>18</td>\n",
       "      <td>2</td>\n",
       "      <td>49</td>\n",
       "      <td>8</td>\n",
       "      <td>0</td>\n",
       "      <td>151</td>\n",
       "      <td>some_creative</td>\n",
       "    </tr>\n",
       "    <tr>\n",
       "      <th>8</th>\n",
       "      <td>2.77</td>\n",
       "      <td>40</td>\n",
       "      <td>4</td>\n",
       "      <td>14</td>\n",
       "      <td>2</td>\n",
       "      <td>82</td>\n",
       "      <td>0</td>\n",
       "      <td>4</td>\n",
       "      <td>186</td>\n",
       "      <td>some_creative</td>\n",
       "    </tr>\n",
       "    <tr>\n",
       "      <th>9</th>\n",
       "      <td>3.00</td>\n",
       "      <td>47</td>\n",
       "      <td>13</td>\n",
       "      <td>27</td>\n",
       "      <td>2</td>\n",
       "      <td>74</td>\n",
       "      <td>0</td>\n",
       "      <td>0</td>\n",
       "      <td>194</td>\n",
       "      <td>mostly_creative</td>\n",
       "    </tr>\n",
       "    <tr>\n",
       "      <th>10</th>\n",
       "      <td>3.00</td>\n",
       "      <td>9</td>\n",
       "      <td>7</td>\n",
       "      <td>9</td>\n",
       "      <td>2</td>\n",
       "      <td>31</td>\n",
       "      <td>29</td>\n",
       "      <td>0</td>\n",
       "      <td>98</td>\n",
       "      <td>mostly_creative</td>\n",
       "    </tr>\n",
       "    <tr>\n",
       "      <th>11</th>\n",
       "      <td>3.77</td>\n",
       "      <td>38</td>\n",
       "      <td>19</td>\n",
       "      <td>4</td>\n",
       "      <td>2</td>\n",
       "      <td>55</td>\n",
       "      <td>18</td>\n",
       "      <td>0</td>\n",
       "      <td>149</td>\n",
       "      <td>very_creative</td>\n",
       "    </tr>\n",
       "    <tr>\n",
       "      <th>12</th>\n",
       "      <td>3.85</td>\n",
       "      <td>94</td>\n",
       "      <td>11</td>\n",
       "      <td>26</td>\n",
       "      <td>2</td>\n",
       "      <td>72</td>\n",
       "      <td>4</td>\n",
       "      <td>0</td>\n",
       "      <td>236</td>\n",
       "      <td>very_creative</td>\n",
       "    </tr>\n",
       "    <tr>\n",
       "      <th>13</th>\n",
       "      <td>3.46</td>\n",
       "      <td>30</td>\n",
       "      <td>8</td>\n",
       "      <td>23</td>\n",
       "      <td>2</td>\n",
       "      <td>71</td>\n",
       "      <td>1</td>\n",
       "      <td>3</td>\n",
       "      <td>173</td>\n",
       "      <td>very_creative</td>\n",
       "    </tr>\n",
       "  </tbody>\n",
       "</table>\n",
       "</div>"
      ],
      "text/plain": [
       "    Creativity  note-edit-count  navigate-count  playback-count  help-count  \\\n",
       "0         1.92               26               5              21           2   \n",
       "1         2.15               76              14              16           0   \n",
       "2         1.62               57               0               6           2   \n",
       "3         1.92               39              14              14           2   \n",
       "4         2.92               38               1               8           2   \n",
       "5         2.92               54              11              25           2   \n",
       "6         2.92               49               8              20           2   \n",
       "7         2.31               53               9              18           2   \n",
       "8         2.77               40               4              14           2   \n",
       "9         3.00               47              13              27           2   \n",
       "10        3.00                9               7               9           2   \n",
       "11        3.77               38              19               4           2   \n",
       "12        3.85               94              11              26           2   \n",
       "13        3.46               30               8              23           2   \n",
       "\n",
       "    building-count  param-change-count  clipboard-count  total-count  \\\n",
       "0               67                  31                7          208   \n",
       "1               78                   7                0          216   \n",
       "2               17                   0                2           98   \n",
       "3               45                   0                0          128   \n",
       "4               53                   4               10          164   \n",
       "5               47                  17                3          180   \n",
       "6              109                   1               23          409   \n",
       "7               49                   8                0          151   \n",
       "8               82                   0                4          186   \n",
       "9               74                   0                0          194   \n",
       "10              31                  29                0           98   \n",
       "11              55                  18                0          149   \n",
       "12              72                   4                0          236   \n",
       "13              71                   1                3          173   \n",
       "\n",
       "           category  \n",
       "0    least_creative  \n",
       "1    least_creative  \n",
       "2    least_creative  \n",
       "3    least_creative  \n",
       "4     some_creative  \n",
       "5     some_creative  \n",
       "6     some_creative  \n",
       "7     some_creative  \n",
       "8     some_creative  \n",
       "9   mostly_creative  \n",
       "10  mostly_creative  \n",
       "11    very_creative  \n",
       "12    very_creative  \n",
       "13    very_creative  "
      ]
     },
     "execution_count": 2,
     "metadata": {},
     "output_type": "execute_result"
    }
   ],
   "source": [
    "interactions = pd.read_csv(\"_practice_dataset.csv\")\n",
    "interactions = interactions.drop(\"Unnamed: 0\", axis=1) #remove old index\n",
    "interactions = interactions.drop(\"saving-count\", axis=1) #remove saving-count as it is zero for all feilds\n",
    "\n",
    "interactions"
   ]
  },
  {
   "cell_type": "code",
   "execution_count": 3,
   "metadata": {
    "scrolled": false
   },
   "outputs": [
    {
     "data": {
      "text/plain": [
       "array([[<matplotlib.axes._subplots.AxesSubplot object at 0x1201aae48>,\n",
       "        <matplotlib.axes._subplots.AxesSubplot object at 0x120418cf8>,\n",
       "        <matplotlib.axes._subplots.AxesSubplot object at 0x1204582e8>],\n",
       "       [<matplotlib.axes._subplots.AxesSubplot object at 0x120488898>,\n",
       "        <matplotlib.axes._subplots.AxesSubplot object at 0x1204bbe48>,\n",
       "        <matplotlib.axes._subplots.AxesSubplot object at 0x1204f8438>],\n",
       "       [<matplotlib.axes._subplots.AxesSubplot object at 0x1205299e8>,\n",
       "        <matplotlib.axes._subplots.AxesSubplot object at 0x12055bfd0>,\n",
       "        <matplotlib.axes._subplots.AxesSubplot object at 0x120569048>]],\n",
       "      dtype=object)"
      ]
     },
     "execution_count": 3,
     "metadata": {},
     "output_type": "execute_result"
    },
    {
     "data": {
      "image/png": "[encoded data removed]",
      "text/plain": [
       "<Figure size 1440x1080 with 9 Axes>"
      ]
     },
     "metadata": {
      "needs_background": "light"
     },
     "output_type": "display_data"
    }
   ],
   "source": [
    "interactions.hist(bins=20, figsize=(20,15)) #some are abit tail heavy, but given it's dummy data I will just go for it"
   ]
  },
  {
   "cell_type": "markdown",
   "metadata": {},
   "source": [
    "# Functions"
   ]
  },
  {
   "cell_type": "markdown",
   "metadata": {},
   "source": [
    "### Preperation"
   ]
  },
  {
   "cell_type": "code",
   "execution_count": 4,
   "metadata": {},
   "outputs": [],
   "source": [
    "def split_train_test(data, test_ratio):\n",
    "    np.random.seed(42) #same shuffled indices please - will do for our purposes (breaks if updated data)\n",
    "    shuffled_indices = np.random.permutation(len(data))\n",
    "    test_set_size = int(len(data) * test_ratio)\n",
    "    test_indicies = shuffled_indices[:test_set_size]\n",
    "    train_indices = shuffled_indices[test_set_size:]\n",
    "    return data.iloc[train_indices], data.iloc[test_indicies]"
   ]
  },
  {
   "cell_type": "code",
   "execution_count": 5,
   "metadata": {},
   "outputs": [],
   "source": [
    "def one_hot_encode_category(_set, category):\n",
    "    data = _set.copy()\n",
    "    data_cat_encoded, data_categories = data[category].factorize()\n",
    "    from sklearn.preprocessing import OneHotEncoder\n",
    "    encoder = OneHotEncoder()\n",
    "    data_cat_1hot = encoder.fit_transform(data_cat_encoded.reshape(-1,1))\n",
    "    return data_cat_1hot\n",
    "\n",
    "def get_data_and_category_label(data_set, category):\n",
    "    data = data_set.drop(category, axis=1)\n",
    "    label = one_hot_encode_category(data_set, category).toarray()\n",
    "    return data, label\n",
    "\n",
    "def get_data_and_continuous_label(data_set, category):\n",
    "    data = data_set.drop(category, axis=1)\n",
    "    label = data_set[category]\n",
    "    return data, label"
   ]
  },
  {
   "cell_type": "code",
   "execution_count": 6,
   "metadata": {},
   "outputs": [],
   "source": [
    "def standardize_data(data):\n",
    "    from sklearn.preprocessing import StandardScaler\n",
    "    scaler = StandardScaler()\n",
    "    scaled_data = scaler.fit_transform(data)\n",
    "    return scaled_data"
   ]
  },
  {
   "cell_type": "markdown",
   "metadata": {},
   "source": [
    "### Evaluations"
   ]
  },
  {
   "cell_type": "code",
   "execution_count": 7,
   "metadata": {},
   "outputs": [],
   "source": [
    "def print_RMSE(prediction, labels):\n",
    "    lin_mse = mean_squared_error(train_label, predict)\n",
    "    lin_rmse = np.sqrt(lin_mse)\n",
    "    print(\"Training RMSE: \", '{0:.30f}'.format(lin_rmse)) #this looks quite good but I am like well supiscious, overfittedd? "
   ]
  },
  {
   "cell_type": "code",
   "execution_count": 8,
   "metadata": {},
   "outputs": [],
   "source": [
    "#not very good with the tiny dataset \n",
    "def print_KFold_Cross_Validation(reg,prepared,labels,crossV):\n",
    "    from sklearn.model_selection import cross_val_score\n",
    "    scores = cross_val_score(reg,prepared,labels,scoring=\"neg_mean_squared_error\",cv=crossV)\n",
    "    print(\"RMSE Score: \", np.sqrt(-scores))\n",
    "    print(\"Mean: \", scores.mean())\n",
    "    print(\"Std Dev: \", scores.std())"
   ]
  },
  {
   "cell_type": "markdown",
   "metadata": {},
   "source": [
    "# Try Some Model(s)"
   ]
  },
  {
   "cell_type": "code",
   "execution_count": 9,
   "metadata": {},
   "outputs": [],
   "source": [
    "#sklearn has a more sophisticated pipline object, but for this test run there is not much need for it\n",
    "def lazy_pre_pipeline(data_set):\n",
    "    data_set = data_set.drop(\"category\", axis=1) #comment out if using categorical\n",
    "    data_set_nonstandard, train_label = get_data_and_category_label(data_set, \"Creativity\");\n",
    "    train_set_prepared = standardize_data(data_set_nonstandard)\n",
    "    return train_set_prepared, train_label"
   ]
  },
  {
   "cell_type": "code",
   "execution_count": 10,
   "metadata": {
    "scrolled": true
   },
   "outputs": [],
   "source": [
    "#split to train an test set \n",
    "train_set, test_set = split_train_test(interactions, 0.45) # lets say 6 out of the 14 (both sets have examples... \n",
    "                                                           # ...of all creativity categories!)\n",
    "\n",
    "#pre prepare data \n",
    "train_set_prepared, train_label = lazy_pre_pipeline(train_set)"
   ]
  },
  {
   "cell_type": "markdown",
   "metadata": {},
   "source": [
    "### Linear Regression"
   ]
  },
  {
   "cell_type": "code",
   "execution_count": 11,
   "metadata": {},
   "outputs": [
    {
     "name": "stdout",
     "output_type": "stream",
     "text": [
      "Predicitons: [[ 0.32072491 -0.15242437 -0.11305746  0.60312548  0.2196211  -0.18871781\n",
      "   0.31072815]\n",
      " [ 0.11258378  0.67550915 -0.27409851 -0.26744202  0.53106475  0.44004442\n",
      "  -0.21766158]\n",
      " [-0.05830869 -0.14808478  0.76215597  0.41431655 -0.37568585  0.12367338\n",
      "   0.28193343]]\n",
      "Labels: [array([1., 0., 0.]), array([0., 1., 0.]), array([0., 0., 1.])]\n",
      "Training RMSE:  0.000000000000000404348482915438\n",
      "RMSE Score:  [0.52228496 0.43309646 0.99213466]\n",
      "Mean:  -0.48156176692194164\n",
      "Std Dev:  0.35720951210554475\n"
     ]
    }
   ],
   "source": [
    "# make linear regression model \n",
    "from sklearn.linear_model import LinearRegression\n",
    "lin_reg = LinearRegression()\n",
    "lin_reg.fit(train_set_prepared, train_label)\n",
    "\n",
    "#try model out on a few instances from the training set \n",
    "some_data = train_set.iloc[:3]\n",
    "some_data_prepared, some_labels = lazy_pre_pipeline(some_data)\n",
    "print(\"Predicitons:\", lin_reg.predict(some_data_prepared))\n",
    "print(\"Labels:\", list(some_labels))\n",
    "\n",
    "#get MSE\n",
    "from sklearn.metrics import mean_squared_error\n",
    "predict = lin_reg.predict(train_set_prepared)\n",
    "print_RMSE(predict, train_label)\n",
    "\n",
    "print_KFold_Cross_Validation(lin_reg,train_set_prepared, train_label, 3)"
   ]
  },
  {
   "cell_type": "markdown",
   "metadata": {},
   "source": [
    "### Decision Tree Regressor"
   ]
  },
  {
   "cell_type": "code",
   "execution_count": 12,
   "metadata": {},
   "outputs": [
    {
     "name": "stdout",
     "output_type": "stream",
     "text": [
      "Training RMSE:  0.000000000000000000000000000000\n",
      "RMSE Score:  [0.53452248 0.53452248 0.53452248]\n",
      "Mean:  -0.2857142857142857\n",
      "Std Dev:  0.0\n"
     ]
    }
   ],
   "source": [
    "from sklearn.tree import DecisionTreeRegressor\n",
    "\n",
    "tree_reg = DecisionTreeRegressor()\n",
    "tree_reg.fit(train_set_prepared, train_label)\n",
    "predict = tree_reg.predict(train_set_prepared)\n",
    "print_RMSE(predict, train_label)\n",
    "\n",
    "print_KFold_Cross_Validation(tree_reg,train_set_prepared,train_label,3)"
   ]
  },
  {
   "cell_type": "markdown",
   "metadata": {},
   "source": [
    "### Random Forest Regressor"
   ]
  },
  {
   "cell_type": "code",
   "execution_count": 13,
   "metadata": {},
   "outputs": [
    {
     "name": "stdout",
     "output_type": "stream",
     "text": [
      "Training RMSE:  0.183225076262580860442241714736\n",
      "RMSE Score:  [0.44185755 0.42983939 0.40355563]\n",
      "Mean:  -0.18095238095238098\n",
      "Std Dev:  0.013491129752936995\n"
     ]
    }
   ],
   "source": [
    "from sklearn.ensemble import RandomForestRegressor\n",
    "random_forest_reg = RandomForestRegressor()\n",
    "random_forest_reg.fit(train_set_prepared, train_label)\n",
    "predict = random_forest_reg.predict(train_set_prepared)\n",
    "print_RMSE(predict,train_label)\n",
    "\n",
    "print_KFold_Cross_Validation(random_forest_reg,train_set_prepared, train_label, 3)"
   ]
  },
  {
   "cell_type": "markdown",
   "metadata": {},
   "source": [
    "### Support Vector Machine"
   ]
  },
  {
   "cell_type": "code",
   "execution_count": 14,
   "metadata": {},
   "outputs": [],
   "source": [
    "# from sklearn.svm import SVR\n",
    "# SVR_reg = SVR()\n",
    "# SVR_reg.fit(train_set_prepared, train_label) #TODO: why is this a bad shape :/\n",
    "# # predict = SVR_reg.predict(train_set_prepared)\n",
    "# # print_RMSE(predict,train_label)\n",
    "\n",
    "# # print_KFold_Cross_Validation(SVR_reg,train_set_prepared, train_label, 3)"
   ]
  },
  {
   "cell_type": "markdown",
   "metadata": {},
   "source": [
    "# Tuning Hyper Parameters (Random Search)"
   ]
  },
  {
   "cell_type": "code",
   "execution_count": 15,
   "metadata": {},
   "outputs": [],
   "source": [
    "# import scipy.stats as stats\n",
    "# from sklearn.model_selection import RandomizedSearchCV\n",
    "\n",
    "# params = {'C': stats.expon(scale=100), 'gamma': stats.expon(scale=.1), 'kernel':['linear','rbf']} #and you could find out more about this...\n",
    "\n",
    "# SVR_reg = SVR()\n",
    "\n",
    "# random_search = RandomizedSearchCV(SVR_reg, params, n_iter=50)\n",
    "\n",
    "# random_search.fit(train_set_prepared, train_label)\n",
    "\n",
    "# print(random_search.best_params_)\n",
    "# print(\"\")\n",
    "# print(random_search.best_estimator_)\n",
    "# print(\"\")\n",
    "# cvres = random_search.cv_results_\n",
    "# for mean_score, params in zip(cvres[\"mean_test_score\"],cvres[\"params\"]):\n",
    "#     print(np.sqrt(-mean_score), params)\n",
    "\n",
    "# #could then look at and remove feature imporances... \n"
   ]
  },
  {
   "cell_type": "markdown",
   "metadata": {},
   "source": [
    "# Evaluate on Test set"
   ]
  },
  {
   "cell_type": "code",
   "execution_count": 16,
   "metadata": {},
   "outputs": [
    {
     "ename": "NameError",
     "evalue": "name 'random_search' is not defined",
     "output_type": "error",
     "traceback": [
      "\u001b[0;31m---------------------------------------------------------------------------\u001b[0m",
      "\u001b[0;31mNameError\u001b[0m                                 Traceback (most recent call last)",
      "\u001b[0;32m<ipython-input-16-a6d1b770cff1>\u001b[0m in \u001b[0;36m<module>\u001b[0;34m\u001b[0m\n\u001b[0;32m----> 1\u001b[0;31m \u001b[0mfinal_model\u001b[0m \u001b[0;34m=\u001b[0m \u001b[0mrandom_search\u001b[0m\u001b[0;34m.\u001b[0m\u001b[0mbest_estimator_\u001b[0m\u001b[0;34m\u001b[0m\u001b[0;34m\u001b[0m\u001b[0m\n\u001b[0m\u001b[1;32m      2\u001b[0m \u001b[0;34m\u001b[0m\u001b[0m\n\u001b[1;32m      3\u001b[0m \u001b[0mtest_set_prepared\u001b[0m\u001b[0;34m,\u001b[0m \u001b[0mtest_label\u001b[0m \u001b[0;34m=\u001b[0m \u001b[0mlazy_pre_pipeline\u001b[0m\u001b[0;34m(\u001b[0m\u001b[0mtest_set\u001b[0m\u001b[0;34m)\u001b[0m\u001b[0;34m\u001b[0m\u001b[0;34m\u001b[0m\u001b[0m\n\u001b[1;32m      4\u001b[0m \u001b[0;34m\u001b[0m\u001b[0m\n\u001b[1;32m      5\u001b[0m \u001b[0mfinal_predictions\u001b[0m \u001b[0;34m=\u001b[0m \u001b[0mfinal_model\u001b[0m\u001b[0;34m.\u001b[0m\u001b[0mpredict\u001b[0m\u001b[0;34m(\u001b[0m\u001b[0mtest_set_prepared\u001b[0m\u001b[0;34m)\u001b[0m\u001b[0;34m\u001b[0m\u001b[0;34m\u001b[0m\u001b[0m\n",
      "\u001b[0;31mNameError\u001b[0m: name 'random_search' is not defined"
     ]
    }
   ],
   "source": [
    "final_model = random_search.best_estimator_\n",
    "\n",
    "test_set_prepared, test_label = lazy_pre_pipeline(test_set)\n",
    "\n",
    "final_predictions = final_model.predict(test_set_prepared)\n",
    "\n",
    "print_RMSE(final_predictions, test_label)"
   ]
  },
  {
   "cell_type": "markdown",
   "metadata": {},
   "source": [
    "# ========================================================"
   ]
  },
  {
   "cell_type": "markdown",
   "metadata": {},
   "source": [
    "# Decision Tree Categoriser"
   ]
  },
  {
   "cell_type": "code",
   "execution_count": 18,
   "metadata": {},
   "outputs": [
    {
     "data": {
      "text/html": [
       "<div>\n",
       "<style scoped>\n",
       "    .dataframe tbody tr th:only-of-type {\n",
       "        vertical-align: middle;\n",
       "    }\n",
       "\n",
       "    .dataframe tbody tr th {\n",
       "        vertical-align: top;\n",
       "    }\n",
       "\n",
       "    .dataframe thead th {\n",
       "        text-align: right;\n",
       "    }\n",
       "</style>\n",
       "<table border=\"1\" class=\"dataframe\">\n",
       "  <thead>\n",
       "    <tr style=\"text-align: right;\">\n",
       "      <th></th>\n",
       "      <th>Creativity</th>\n",
       "      <th>note-edit-count</th>\n",
       "      <th>navigate-count</th>\n",
       "      <th>playback-count</th>\n",
       "      <th>help-count</th>\n",
       "      <th>building-count</th>\n",
       "      <th>param-change-count</th>\n",
       "      <th>clipboard-count</th>\n",
       "      <th>total-count</th>\n",
       "      <th>category</th>\n",
       "    </tr>\n",
       "  </thead>\n",
       "  <tbody>\n",
       "    <tr>\n",
       "      <th>0</th>\n",
       "      <td>1.92</td>\n",
       "      <td>26</td>\n",
       "      <td>5</td>\n",
       "      <td>21</td>\n",
       "      <td>2</td>\n",
       "      <td>67</td>\n",
       "      <td>31</td>\n",
       "      <td>7</td>\n",
       "      <td>208</td>\n",
       "      <td>least_creative</td>\n",
       "    </tr>\n",
       "    <tr>\n",
       "      <th>1</th>\n",
       "      <td>2.15</td>\n",
       "      <td>76</td>\n",
       "      <td>14</td>\n",
       "      <td>16</td>\n",
       "      <td>0</td>\n",
       "      <td>78</td>\n",
       "      <td>7</td>\n",
       "      <td>0</td>\n",
       "      <td>216</td>\n",
       "      <td>least_creative</td>\n",
       "    </tr>\n",
       "    <tr>\n",
       "      <th>2</th>\n",
       "      <td>1.62</td>\n",
       "      <td>57</td>\n",
       "      <td>0</td>\n",
       "      <td>6</td>\n",
       "      <td>2</td>\n",
       "      <td>17</td>\n",
       "      <td>0</td>\n",
       "      <td>2</td>\n",
       "      <td>98</td>\n",
       "      <td>least_creative</td>\n",
       "    </tr>\n",
       "    <tr>\n",
       "      <th>3</th>\n",
       "      <td>1.92</td>\n",
       "      <td>39</td>\n",
       "      <td>14</td>\n",
       "      <td>14</td>\n",
       "      <td>2</td>\n",
       "      <td>45</td>\n",
       "      <td>0</td>\n",
       "      <td>0</td>\n",
       "      <td>128</td>\n",
       "      <td>least_creative</td>\n",
       "    </tr>\n",
       "    <tr>\n",
       "      <th>4</th>\n",
       "      <td>2.92</td>\n",
       "      <td>38</td>\n",
       "      <td>1</td>\n",
       "      <td>8</td>\n",
       "      <td>2</td>\n",
       "      <td>53</td>\n",
       "      <td>4</td>\n",
       "      <td>10</td>\n",
       "      <td>164</td>\n",
       "      <td>some_creative</td>\n",
       "    </tr>\n",
       "    <tr>\n",
       "      <th>5</th>\n",
       "      <td>2.92</td>\n",
       "      <td>54</td>\n",
       "      <td>11</td>\n",
       "      <td>25</td>\n",
       "      <td>2</td>\n",
       "      <td>47</td>\n",
       "      <td>17</td>\n",
       "      <td>3</td>\n",
       "      <td>180</td>\n",
       "      <td>some_creative</td>\n",
       "    </tr>\n",
       "    <tr>\n",
       "      <th>6</th>\n",
       "      <td>2.92</td>\n",
       "      <td>49</td>\n",
       "      <td>8</td>\n",
       "      <td>20</td>\n",
       "      <td>2</td>\n",
       "      <td>109</td>\n",
       "      <td>1</td>\n",
       "      <td>23</td>\n",
       "      <td>409</td>\n",
       "      <td>some_creative</td>\n",
       "    </tr>\n",
       "    <tr>\n",
       "      <th>7</th>\n",
       "      <td>2.31</td>\n",
       "      <td>53</td>\n",
       "      <td>9</td>\n",
       "      <td>18</td>\n",
       "      <td>2</td>\n",
       "      <td>49</td>\n",
       "      <td>8</td>\n",
       "      <td>0</td>\n",
       "      <td>151</td>\n",
       "      <td>some_creative</td>\n",
       "    </tr>\n",
       "    <tr>\n",
       "      <th>8</th>\n",
       "      <td>2.77</td>\n",
       "      <td>40</td>\n",
       "      <td>4</td>\n",
       "      <td>14</td>\n",
       "      <td>2</td>\n",
       "      <td>82</td>\n",
       "      <td>0</td>\n",
       "      <td>4</td>\n",
       "      <td>186</td>\n",
       "      <td>some_creative</td>\n",
       "    </tr>\n",
       "    <tr>\n",
       "      <th>9</th>\n",
       "      <td>3.00</td>\n",
       "      <td>47</td>\n",
       "      <td>13</td>\n",
       "      <td>27</td>\n",
       "      <td>2</td>\n",
       "      <td>74</td>\n",
       "      <td>0</td>\n",
       "      <td>0</td>\n",
       "      <td>194</td>\n",
       "      <td>mostly_creative</td>\n",
       "    </tr>\n",
       "    <tr>\n",
       "      <th>10</th>\n",
       "      <td>3.00</td>\n",
       "      <td>9</td>\n",
       "      <td>7</td>\n",
       "      <td>9</td>\n",
       "      <td>2</td>\n",
       "      <td>31</td>\n",
       "      <td>29</td>\n",
       "      <td>0</td>\n",
       "      <td>98</td>\n",
       "      <td>mostly_creative</td>\n",
       "    </tr>\n",
       "    <tr>\n",
       "      <th>11</th>\n",
       "      <td>3.77</td>\n",
       "      <td>38</td>\n",
       "      <td>19</td>\n",
       "      <td>4</td>\n",
       "      <td>2</td>\n",
       "      <td>55</td>\n",
       "      <td>18</td>\n",
       "      <td>0</td>\n",
       "      <td>149</td>\n",
       "      <td>very_creative</td>\n",
       "    </tr>\n",
       "    <tr>\n",
       "      <th>12</th>\n",
       "      <td>3.85</td>\n",
       "      <td>94</td>\n",
       "      <td>11</td>\n",
       "      <td>26</td>\n",
       "      <td>2</td>\n",
       "      <td>72</td>\n",
       "      <td>4</td>\n",
       "      <td>0</td>\n",
       "      <td>236</td>\n",
       "      <td>very_creative</td>\n",
       "    </tr>\n",
       "    <tr>\n",
       "      <th>13</th>\n",
       "      <td>3.46</td>\n",
       "      <td>30</td>\n",
       "      <td>8</td>\n",
       "      <td>23</td>\n",
       "      <td>2</td>\n",
       "      <td>71</td>\n",
       "      <td>1</td>\n",
       "      <td>3</td>\n",
       "      <td>173</td>\n",
       "      <td>very_creative</td>\n",
       "    </tr>\n",
       "  </tbody>\n",
       "</table>\n",
       "</div>"
      ],
      "text/plain": [
       "    Creativity  note-edit-count  navigate-count  playback-count  help-count  \\\n",
       "0         1.92               26               5              21           2   \n",
       "1         2.15               76              14              16           0   \n",
       "2         1.62               57               0               6           2   \n",
       "3         1.92               39              14              14           2   \n",
       "4         2.92               38               1               8           2   \n",
       "5         2.92               54              11              25           2   \n",
       "6         2.92               49               8              20           2   \n",
       "7         2.31               53               9              18           2   \n",
       "8         2.77               40               4              14           2   \n",
       "9         3.00               47              13              27           2   \n",
       "10        3.00                9               7               9           2   \n",
       "11        3.77               38              19               4           2   \n",
       "12        3.85               94              11              26           2   \n",
       "13        3.46               30               8              23           2   \n",
       "\n",
       "    building-count  param-change-count  clipboard-count  total-count  \\\n",
       "0               67                  31                7          208   \n",
       "1               78                   7                0          216   \n",
       "2               17                   0                2           98   \n",
       "3               45                   0                0          128   \n",
       "4               53                   4               10          164   \n",
       "5               47                  17                3          180   \n",
       "6              109                   1               23          409   \n",
       "7               49                   8                0          151   \n",
       "8               82                   0                4          186   \n",
       "9               74                   0                0          194   \n",
       "10              31                  29                0           98   \n",
       "11              55                  18                0          149   \n",
       "12              72                   4                0          236   \n",
       "13              71                   1                3          173   \n",
       "\n",
       "           category  \n",
       "0    least_creative  \n",
       "1    least_creative  \n",
       "2    least_creative  \n",
       "3    least_creative  \n",
       "4     some_creative  \n",
       "5     some_creative  \n",
       "6     some_creative  \n",
       "7     some_creative  \n",
       "8     some_creative  \n",
       "9   mostly_creative  \n",
       "10  mostly_creative  \n",
       "11    very_creative  \n",
       "12    very_creative  \n",
       "13    very_creative  "
      ]
     },
     "execution_count": 18,
     "metadata": {},
     "output_type": "execute_result"
    }
   ],
   "source": [
    "newData = pd.read_csv(\"_practice_dataset.csv\")\n",
    "newData = newData.drop(\"Unnamed: 0\", axis=1) #remove old index\n",
    "newData = newData.drop(\"saving-count\", axis=1) #remove saving-count as it is zero for all feilds\n",
    "\n",
    "newData"
   ]
  },
  {
   "cell_type": "code",
   "execution_count": null,
   "metadata": {},
   "outputs": [],
   "source": []
  },
  {
   "cell_type": "code",
   "execution_count": 23,
   "metadata": {},
   "outputs": [],
   "source": [
    "#split to train an test set \n",
    "tree_train_set, tree_test_set = split_train_test(newData, 0.45) # lets say 6 out of the 14 (both sets have examples... \n",
    "                                                           # ...of all creativity categories!)\n",
    "\n",
    "#pre prepare data \n",
    "tree_train_set_prepared = tree_train_set.drop(\"category\", axis=1)\n",
    "tree_train_label = train_set[\"category\"]"
   ]
  },
  {
   "cell_type": "code",
   "execution_count": 25,
   "metadata": {},
   "outputs": [
    {
     "ename": "ModuleNotFoundError",
     "evalue": "No module named 'graphviz'",
     "output_type": "error",
     "traceback": [
      "\u001b[0;31m---------------------------------------------------------------------------\u001b[0m",
      "\u001b[0;31mModuleNotFoundError\u001b[0m                       Traceback (most recent call last)",
      "\u001b[0;32m<ipython-input-25-be2370e60536>\u001b[0m in \u001b[0;36m<module>\u001b[0;34m\u001b[0m\n\u001b[1;32m      5\u001b[0m \u001b[0mplot_tree\u001b[0m\u001b[0;34m(\u001b[0m\u001b[0mclf\u001b[0m\u001b[0;34m.\u001b[0m\u001b[0mfit\u001b[0m\u001b[0;34m(\u001b[0m\u001b[0mtree_train_set_prepared\u001b[0m\u001b[0;34m,\u001b[0m \u001b[0mtree_train_label\u001b[0m\u001b[0;34m)\u001b[0m\u001b[0;34m)\u001b[0m\u001b[0;34m\u001b[0m\u001b[0;34m\u001b[0m\u001b[0m\n\u001b[1;32m      6\u001b[0m \u001b[0;34m\u001b[0m\u001b[0m\n\u001b[0;32m----> 7\u001b[0;31m \u001b[0;32mimport\u001b[0m \u001b[0mgraphviz\u001b[0m\u001b[0;34m\u001b[0m\u001b[0;34m\u001b[0m\u001b[0m\n\u001b[0m\u001b[1;32m      8\u001b[0m \u001b[0mdot_data\u001b[0m \u001b[0;34m=\u001b[0m \u001b[0mtree\u001b[0m\u001b[0;34m.\u001b[0m\u001b[0mexport_graphviz\u001b[0m\u001b[0;34m(\u001b[0m\u001b[0mclf\u001b[0m\u001b[0;34m,\u001b[0m \u001b[0mout_file\u001b[0m\u001b[0;34m=\u001b[0m\u001b[0;32mNone\u001b[0m\u001b[0;34m)\u001b[0m\u001b[0;34m\u001b[0m\u001b[0;34m\u001b[0m\u001b[0m\n\u001b[1;32m      9\u001b[0m \u001b[0mgraph\u001b[0m \u001b[0;34m=\u001b[0m \u001b[0mgraphviz\u001b[0m\u001b[0;34m.\u001b[0m\u001b[0mSource\u001b[0m\u001b[0;34m(\u001b[0m\u001b[0mdot_data\u001b[0m\u001b[0;34m)\u001b[0m\u001b[0;34m\u001b[0m\u001b[0;34m\u001b[0m\u001b[0m\n",
      "\u001b[0;31mModuleNotFoundError\u001b[0m: No module named 'graphviz'"
     ]
    },
    {
     "data": {
      "image/png": "[encoded data removed]",
      "text/plain": [
       "<Figure size 432x288 with 1 Axes>"
      ]
     },
     "metadata": {
      "needs_background": "light"
     },
     "output_type": "display_data"
    }
   ],
   "source": [
    "from sklearn.tree import DecisionTreeClassifier\n",
    "from sklearn.tree import plot_tree\n",
    "\n",
    "clf = DecisionTreeClassifier()\n",
    "plot_tree(clf.fit(tree_train_set_prepared, tree_train_label)) \n",
    "\n",
    "import graphviz \n",
    "dot_data = tree.export_graphviz(clf, out_file=None) \n",
    "graph = graphviz.Source(dot_data) \n",
    "graph.render(\"iris\") "
   ]
  }
 ],
 "metadata": {
  "kernelspec": {
   "display_name": "Python 3",
   "language": "python",
   "name": "python3"
  },
  "language_info": {
   "codemirror_mode": {
    "name": "ipython",
    "version": 3
   },
   "file_extension": ".py",
   "mimetype": "text/x-python",
   "name": "python",
   "nbconvert_exporter": "python",
   "pygments_lexer": "ipython3",
   "version": "3.7.3"
  }
 },
 "nbformat": 4,
 "nbformat_minor": 2
}
